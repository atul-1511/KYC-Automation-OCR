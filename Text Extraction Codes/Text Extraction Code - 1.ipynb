{
 "cells": [
  {
   "cell_type": "code",
   "execution_count": 1,
   "metadata": {},
   "outputs": [],
   "source": [
    "import cv2"
   ]
  },
  {
   "cell_type": "code",
   "execution_count": 2,
   "metadata": {},
   "outputs": [],
   "source": [
    "import numpy as np"
   ]
  },
  {
   "cell_type": "code",
   "execution_count": 3,
   "metadata": {},
   "outputs": [],
   "source": [
    "from cv2 import resize, imwrite, imshow, boundingRect, countNonZero, cvtColor, drawContours, findContours, getStructuringElement, imread, morphologyEx, pyrDown, rectangle, threshold"
   ]
  },
  {
   "cell_type": "code",
   "execution_count": 4,
   "metadata": {},
   "outputs": [],
   "source": [
    "# Function for Text Extraction\n",
    "def process_rgb(rgb,n):\n",
    "    hasText=0\n",
    "    # Resize the image(different parameter for each document) so that the width of the text boxes are around 30 pixels\n",
    "    rgb = resize(rgb,(800,550))\n",
    "    \n",
    "    # Convert the image to grayscale\n",
    "    gray = cv2.cvtColor(rgb, cv2.COLOR_BGR2GRAY);\n",
    "    \n",
    "    # Create a 3*3 Eliptical Kernel for travesring the image. \n",
    "    morphKernel = cv2.getStructuringElement(cv2.MORPH_ELLIPSE, (5,3))\n",
    "    \n",
    "    # Morphological Gradient is the difference between Dialtion and Erosion\n",
    "    # The result will look like an outline of an object\n",
    "    grad = cv2.morphologyEx(gray, cv2.MORPH_GRADIENT, morphKernel)\n",
    "    \n",
    "    # Thresholding the image using Binary and OSTU Threshold\n",
    "    _, bw = cv2.threshold(grad, 0.0, 255.0, cv2.THRESH_BINARY | cv2.THRESH_OTSU)\n",
    "\n",
    "    # After getting the Binarized output,connect horizontally oriented regions since they are part of a single line.\n",
    "    # In the function MORPH_RECT the values can be changed depending on the output desired. If we want to detect a sentence then\n",
    "    # the value must be large. If we want to detect single words then the value must be small.\n",
    "    morphKernel = cv2.getStructuringElement(cv2.MORPH_RECT, (9, 1))\n",
    "    connected = cv2.morphologyEx(bw, cv2.MORPH_CLOSE, morphKernel)\n",
    "    \n",
    "    # Find all the contours after connecting the horizontally oriented regions so that they become part of one contour itself\n",
    "    mask = np.zeros(bw.shape[:2], dtype=\"uint8\");\n",
    "    _,contours, hierarchy = cv2.findContours(connected, cv2.RETR_CCOMP, cv2.CHAIN_APPROX_SIMPLE)\n",
    "    \n",
    "    # We only need those contours where text is present\n",
    "    j=0\n",
    "    idx = 0\n",
    "    while idx >= 0 :\n",
    "        # Create Rectangles of Width=w and Height=h around the identified contours\n",
    "        x,y,w,h = cv2.boundingRect(contours[idx]);\n",
    "        \n",
    "        # Create a Mask around a contour\n",
    "        cv2.drawContours(mask, contours, idx, (255, 255, 255), cv2.FILLED);\n",
    "        \n",
    "        # Find the ratio of Non-Zero Regions inside the mask        \n",
    "        r = cv2.contourArea(contours[idx])/(w*h)\n",
    "        \n",
    "        # If the ratio is greater than some constant, then there is text present inside the contour\n",
    "        if(r > 0.05 and h > 10 and w > 50 and h < 80):\n",
    "            cv2.rectangle(rgb, (x,y), (x+w,y+h), (0, 0, 0), 1)\n",
    "            roi = rgb[y:y+h, x:x+w]\n",
    "            imwrite(\"roi\" + str(n)+str(idx)+\".jpg\", roi)\n",
    "            j = j+1\n",
    "            hasText = 1\n",
    "        idx = hierarchy[0][idx][0]\n",
    "     \n",
    "    # Save the image\n",
    "    imwrite(r\"C:\\Users\\u293217\\Downloads\\\\x\"+str(n)+\".jpg\", rgb)"
   ]
  },
  {
   "cell_type": "code",
   "execution_count": 5,
   "metadata": {},
   "outputs": [],
   "source": [
    "# Read the image\n",
    "for i in range(1,11,1):\n",
    "        img = imread(r\"C:\\Users\\u293217\\Downloads\\\\\" + str(i) + \".jpg\")\n",
    "        process_rgb(img,i)"
   ]
  },
  {
   "cell_type": "code",
   "execution_count": null,
   "metadata": {},
   "outputs": [],
   "source": []
  }
 ],
 "metadata": {
  "kernelspec": {
   "display_name": "Python 3",
   "language": "python",
   "name": "python3"
  },
  "language_info": {
   "codemirror_mode": {
    "name": "ipython",
    "version": 3
   },
   "file_extension": ".py",
   "mimetype": "text/x-python",
   "name": "python",
   "nbconvert_exporter": "python",
   "pygments_lexer": "ipython3",
   "version": "3.5.5"
  }
 },
 "nbformat": 4,
 "nbformat_minor": 2
}
