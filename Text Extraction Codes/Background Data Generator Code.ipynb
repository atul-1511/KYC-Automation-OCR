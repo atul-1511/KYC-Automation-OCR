{
 "cells": [
  {
   "cell_type": "code",
   "execution_count": 1,
   "metadata": {},
   "outputs": [],
   "source": [
    "import cv2\n",
    "import numpy as np\n",
    "import random\n",
    "from cv2 import resize, imwrite, imshow, boundingRect, countNonZero, cvtColor, drawContours, findContours, getStructuringElement, imread, morphologyEx, pyrDown, rectangle, threshold"
   ]
  },
  {
   "cell_type": "code",
   "execution_count": 2,
   "metadata": {},
   "outputs": [],
   "source": [
    "def brightness_contrast(img,n,i):\n",
    "    img = np.int16(img)  \n",
    "    for j in range(0,30):\n",
    "        contrast=random.randint(1,10)\n",
    "        \n",
    "        img = img*(contrast/127 + 1) - contrast \n",
    "        img = np.clip(img, 0, 255)\n",
    "        img = np.uint8(img)\n",
    "        cv2.imwrite(r\"C:\\Users\\u293217\\Desktop\\PAN Cards\\image\"+ str(j) + str(n) + str(i)+\".jpg\", img)"
   ]
  },
  {
   "cell_type": "code",
   "execution_count": 3,
   "metadata": {},
   "outputs": [],
   "source": [
    "def create_background(image1,n):\n",
    "    height = np.size(image1, 0)\n",
    "    width = np.size(image1, 1)\n",
    "    for i in range(0,30):\n",
    "        x=random.randint(1,height-50)\n",
    "        y=random.randint(1,width-250)\n",
    "        crop_img = image1[x:x+50, y:y+250]\n",
    "        imwrite(r\"C:\\Users\\u293217\\Desktop\\PAN Cards\\image\"+ str(n) + str(i)+\".jpg\", crop_img)\n",
    "        brightness_contrast(crop_img,n,i)"
   ]
  },
  {
   "cell_type": "code",
   "execution_count": 4,
   "metadata": {},
   "outputs": [],
   "source": [
    "for i in range(0,7):\n",
    "    image = imread(r\"C:\\Users\\u293217\\Desktop\\PAN Cards\\\\\" +str(i) + \".jpg\")\n",
    "    create_background(image,i)"
   ]
  },
  {
   "cell_type": "code",
   "execution_count": null,
   "metadata": {},
   "outputs": [],
   "source": []
  }
 ],
 "metadata": {
  "kernelspec": {
   "display_name": "Python 3",
   "language": "python",
   "name": "python3"
  },
  "language_info": {
   "codemirror_mode": {
    "name": "ipython",
    "version": 3
   },
   "file_extension": ".py",
   "mimetype": "text/x-python",
   "name": "python",
   "nbconvert_exporter": "python",
   "pygments_lexer": "ipython3",
   "version": "3.5.5"
  }
 },
 "nbformat": 4,
 "nbformat_minor": 2
}
