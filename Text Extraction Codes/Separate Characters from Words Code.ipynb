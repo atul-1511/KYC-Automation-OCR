{
 "cells": [
  {
   "cell_type": "code",
   "execution_count": 1,
   "metadata": {},
   "outputs": [],
   "source": [
    "import cv2\n",
    "import numpy as np\n",
    "from cv2 import line,resize, imwrite, imshow, boundingRect, countNonZero, cvtColor, drawContours, findContours, getStructuringElement, imread, morphologyEx, pyrDown, rectangle, threshold"
   ]
  },
  {
   "cell_type": "code",
   "execution_count": 2,
   "metadata": {},
   "outputs": [],
   "source": [
    "img = imread(r\"C:\\Users\\u293217\\Downloads\\New Folder\\5.jpg\")"
   ]
  },
  {
   "cell_type": "code",
   "execution_count": 3,
   "metadata": {},
   "outputs": [],
   "source": [
    "row1, col1= img.shape[:2]\n",
    "img = resize(img,(4000,1000))\n",
    "img = cv2.transpose(img)  \n",
    "img = cv2.flip(img, 1)"
   ]
  },
  {
   "cell_type": "code",
   "execution_count": 4,
   "metadata": {},
   "outputs": [],
   "source": [
    "gray = cv2.cvtColor(img, cv2.COLOR_BGR2GRAY);\n",
    "gray = cv2.adaptiveThreshold(gray,255,cv2.ADAPTIVE_THRESH_MEAN_C,cv2.THRESH_BINARY,501,1)\n",
    "kernel = np.ones((5,5),np.uint8)\n",
    "gray = cv2.dilate(gray,kernel,iterations = 15)\n",
    "gray = cv2.erode(gray,kernel,iterations = 15)\n",
    "gray = cv2.dilate(gray,kernel,iterations = 5)"
   ]
  },
  {
   "cell_type": "code",
   "execution_count": 5,
   "metadata": {},
   "outputs": [],
   "source": [
    "row, col= img.shape[:2]\n",
    "bottom= img[row-2:row, 0:col]\n",
    "mean= cv2.mean(bottom)[0]\n",
    "bordersize=50\n",
    "border1=cv2.copyMakeBorder(gray, top=bordersize, bottom=bordersize, left=bordersize, right=bordersize, borderType= cv2.BORDER_CONSTANT, value=[255,255,255] )\n",
    "border2=cv2.copyMakeBorder(img, top=bordersize, bottom=bordersize, left=bordersize, right=bordersize, borderType= cv2.BORDER_CONSTANT, value=[mean,mean,mean] )"
   ]
  },
  {
   "cell_type": "code",
   "execution_count": 6,
   "metadata": {},
   "outputs": [],
   "source": [
    "im2, contours, hierarchy = cv2.findContours(border1,cv2.RETR_TREE,cv2.CHAIN_APPROX_SIMPLE)\n",
    "for i in range(1,len(contours)):\n",
    "    cnt = contours[i]\n",
    "    x,y,w,h = cv2.boundingRect(cnt)\n",
    "    #cv2.rectangle(border2, (x-20,y-20), (x+w+20,y+h+20), (0, 0, 255), 10)\n",
    "    if w>500:\n",
    "        roi1 = border1[y-20:y+h+20, x-20:x+w+20]\n",
    "        roi2 = border2[y-20:y+h+20, x-20:x+w+20]\n",
    "        roi1 = cv2.transpose(roi1)\n",
    "        roi1 = cv2.flip(roi1,0)\n",
    "        roi2 = cv2.transpose(roi2)\n",
    "        roi2 = cv2.flip(roi2,0)\n",
    "        roi1 = resize(roi1,(32,32))\n",
    "        roi2 = resize(roi2,(32,32))\n",
    "        imwrite(r\"C:\\Users\\u293217\\Downloads\\1roi\"+str(i)+\".jpg\", roi1)\n",
    "        imwrite(r\"C:\\Users\\u293217\\Downloads\\2roi\"+str(i)+\".jpg\", roi2)"
   ]
  },
  {
   "cell_type": "code",
   "execution_count": 7,
   "metadata": {},
   "outputs": [
    {
     "data": {
      "text/plain": [
       "True"
      ]
     },
     "execution_count": 7,
     "metadata": {},
     "output_type": "execute_result"
    }
   ],
   "source": [
    "border1 = cv2.transpose(border1)\n",
    "border1 = cv2.flip(border1, 0)\n",
    "imwrite(r\"C:\\Users\\u293217\\Downloads\\resutl1.jpg\", border1)"
   ]
  },
  {
   "cell_type": "code",
   "execution_count": null,
   "metadata": {},
   "outputs": [],
   "source": []
  }
 ],
 "metadata": {
  "kernelspec": {
   "display_name": "Python 3",
   "language": "python",
   "name": "python3"
  },
  "language_info": {
   "codemirror_mode": {
    "name": "ipython",
    "version": 3
   },
   "file_extension": ".py",
   "mimetype": "text/x-python",
   "name": "python",
   "nbconvert_exporter": "python",
   "pygments_lexer": "ipython3",
   "version": "3.5.5"
  }
 },
 "nbformat": 4,
 "nbformat_minor": 2
}
