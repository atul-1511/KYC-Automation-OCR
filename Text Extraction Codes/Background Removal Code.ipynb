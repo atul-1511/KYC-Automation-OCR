{
 "cells": [
  {
   "cell_type": "code",
   "execution_count": 1,
   "metadata": {},
   "outputs": [],
   "source": [
    "# This is the code to remove background and separate the documents so that they could be fed into the model"
   ]
  },
  {
   "cell_type": "code",
   "execution_count": 2,
   "metadata": {},
   "outputs": [],
   "source": [
    "import cv2"
   ]
  },
  {
   "cell_type": "code",
   "execution_count": 3,
   "metadata": {},
   "outputs": [],
   "source": [
    "import numpy as np"
   ]
  },
  {
   "cell_type": "code",
   "execution_count": 4,
   "metadata": {},
   "outputs": [],
   "source": [
    "from cv2 import resize, imwrite, imshow, boundingRect, countNonZero, cvtColor, drawContours, findContours, getStructuringElement, imread, morphologyEx, pyrDown, rectangle, threshold"
   ]
  },
  {
   "cell_type": "code",
   "execution_count": 5,
   "metadata": {},
   "outputs": [],
   "source": [
    "# Read the image\n",
    "img1 = imread(r'C:\\Users\\u293217\\ImageTest\\output.jpg')"
   ]
  },
  {
   "cell_type": "code",
   "execution_count": 6,
   "metadata": {},
   "outputs": [],
   "source": [
    "# Find the edges in the image\n",
    "# Generally the edges that are the first to be identified are the Document Borders\n",
    "# This will also Binarize the image\n",
    "img = cv2.Canny(img1,100,200)"
   ]
  },
  {
   "cell_type": "code",
   "execution_count": 7,
   "metadata": {},
   "outputs": [],
   "source": [
    "# Create a 3*3 Kernel with all the values = 1\n",
    "kernel = np.ones((3,3),np.uint8)\n",
    "\n",
    "# Dilate the Image\n",
    "# Thicken the White Regions of the image and reduce the Black Regions\n",
    "img = cv2.dilate(img,kernel,iterations = 1)"
   ]
  },
  {
   "cell_type": "code",
   "execution_count": 8,
   "metadata": {},
   "outputs": [],
   "source": [
    "# Determining the Height and Width of the Image\n",
    "height = np.size(img, 0)\n",
    "width = np.size(img, 1)"
   ]
  },
  {
   "cell_type": "code",
   "execution_count": 9,
   "metadata": {},
   "outputs": [],
   "source": [
    "# Cropper for Background Subtraction\n",
    "\n",
    "i = 0\n",
    "while(i<height):\n",
    "    count = 0\n",
    "    for j in range(0,width):\n",
    "        if img[i,j] == 255:\n",
    "            count=count+1\n",
    "    i = i+1\n",
    "    if count >= width/5:\n",
    "        break\n",
    "x1 = i\n",
    "\n",
    "i = height-1\n",
    "while(i>=0):\n",
    "    \n",
    "    count = 0\n",
    "    for j in range(0,width):\n",
    "        if img[i,j] == 255:\n",
    "            count=count+1\n",
    "    i = i-1\n",
    "    if count >= width/5:\n",
    "        break\n",
    "x2 = i\n",
    "\n",
    "i = 0\n",
    "while(i<width):\n",
    "    count = 0\n",
    "    for j in range(0,height):\n",
    "        if img[j,i] == 255:\n",
    "            count=count+1\n",
    "    i = i+1\n",
    "    if count >= height/5: \n",
    "        break\n",
    "y1 = i\n",
    "\n",
    "i = width-1\n",
    "while(i>=0):\n",
    "    count = 0\n",
    "    j = 0\n",
    "    while(j<height):\n",
    "        if img[j,i] == 255:\n",
    "            count=count+1\n",
    "        j = j+1\n",
    "    i = i-1\n",
    "    if count >= height/5:\n",
    "        break\n",
    "y2 = i"
   ]
  },
  {
   "cell_type": "code",
   "execution_count": 10,
   "metadata": {},
   "outputs": [
    {
     "data": {
      "text/plain": [
       "True"
      ]
     },
     "execution_count": 10,
     "metadata": {},
     "output_type": "execute_result"
    }
   ],
   "source": [
    "# Cropped Image is returned as Output to be fed to the Model\n",
    "crop_img = img1[x1:x2, y1:y2]\n",
    "imwrite(r'C:\\Users\\u293217\\ImageTest\\x.jpg',crop_img)"
   ]
  },
  {
   "cell_type": "code",
   "execution_count": null,
   "metadata": {},
   "outputs": [],
   "source": []
  }
 ],
 "metadata": {
  "kernelspec": {
   "display_name": "Python 3",
   "language": "python",
   "name": "python3"
  },
  "language_info": {
   "codemirror_mode": {
    "name": "ipython",
    "version": 3
   },
   "file_extension": ".py",
   "mimetype": "text/x-python",
   "name": "python",
   "nbconvert_exporter": "python",
   "pygments_lexer": "ipython3",
   "version": "3.5.5"
  }
 },
 "nbformat": 4,
 "nbformat_minor": 2
}
